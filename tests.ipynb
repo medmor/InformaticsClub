{
 "cells": [
  {
   "cell_type": "code",
   "execution_count": 2,
   "metadata": {},
   "outputs": [
    {
     "name": "stdout",
     "output_type": "stream",
     "text": [
      "a\n",
      "b\n",
      "2\n",
      "3\n"
     ]
    }
   ],
   "source": [
    "var strings = new string[] {\"a\", \"b\"};\n",
    "var index = 0;\n",
    "Console.WriteLine(strings[index++]);\n",
    "Console.WriteLine(strings[index++]);\n",
    "Console.WriteLine(index++);\n",
    "Console.WriteLine(index);\n"
   ]
  }
 ],
 "metadata": {
  "kernelspec": {
   "display_name": ".NET (C#)",
   "language": "C#",
   "name": ".net-csharp"
  },
  "polyglot_notebook": {
   "kernelInfo": {
    "defaultKernelName": "csharp",
    "items": [
     {
      "aliases": [],
      "name": "csharp"
     }
    ]
   }
  }
 },
 "nbformat": 4,
 "nbformat_minor": 2
}
