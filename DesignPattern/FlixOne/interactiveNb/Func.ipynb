{
 "cells": [
  {
   "cell_type": "code",
   "execution_count": 5,
   "metadata": {},
   "outputs": [
    {
     "name": "stdout",
     "output_type": "stream",
     "text": [
      "one\n",
      "two\n",
      "undefined\n"
     ]
    }
   ],
   "source": [
    "interface INumber {\n",
    "    string name {get; set;}\n",
    "}\n",
    "\n",
    "class one : INumber {\n",
    "    public string name {get; set;} = \"one\";\n",
    "}\n",
    "class two : INumber {\n",
    "    public string name  {get; set;} = \"two\";\n",
    "}\n",
    "class undefinedNumber : INumber{\n",
    "    public string name  {get; set;} = \"undefined\";\n",
    "}\n",
    "class Number{\n",
    "    public static Func<string, INumber> GetNumber => numb => {\n",
    "        switch(numb) {\n",
    "            case \"one\":\n",
    "                return new one();\n",
    "            case \"two\":\n",
    "                return new two();\n",
    "            default:\n",
    "                return new undefinedNumber();\n",
    "        }\n",
    "    };\n",
    "}\n",
    "\n",
    "var obj = Number.GetNumber(\"one\");\n",
    "Console.WriteLine(obj.name);\n",
    "\n",
    "obj = Number.GetNumber(\"two\");\n",
    "Console.WriteLine(obj.name);\n",
    "\n",
    "obj = Number.GetNumber(\"sone thing else\");\n",
    "Console.WriteLine(obj.name);"
   ]
  }
 ],
 "metadata": {
  "kernelspec": {
   "display_name": ".NET (C#)",
   "language": "C#",
   "name": ".net-csharp"
  },
  "polyglot_notebook": {
   "kernelInfo": {
    "defaultKernelName": "csharp",
    "items": [
     {
      "aliases": [
       "c#",
       "C#"
      ],
      "languageName": "C#",
      "name": "csharp"
     },
     {
      "aliases": [
       "frontend"
      ],
      "languageName": null,
      "name": "vscode"
     }
    ]
   }
  }
 },
 "nbformat": 4,
 "nbformat_minor": 2
}
