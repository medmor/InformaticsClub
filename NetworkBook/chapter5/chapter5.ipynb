{
 "cells": [
  {
   "cell_type": "code",
   "execution_count": 2,
   "metadata": {
    "dotnet_interactive": {
     "language": "csharp"
    },
    "polyglot_notebook": {
     "kernelName": "csharp"
    }
   },
   "outputs": [
    {
     "ename": "Error",
     "evalue": "System.Net.ProtocolViolationException: Cannot send a content-body with this verb-type.\r\n   at System.Net.HttpWebRequest.InternalGetRequestStream()\r\n   at System.Net.HttpWebRequest.GetRequestStream()\r\n   at Submission#3.<<Initialize>>d__0.MoveNext()\r\n--- End of stack trace from previous location ---\r\n   at Microsoft.CodeAnalysis.Scripting.ScriptExecutionState.RunSubmissionsAsync[TResult](ImmutableArray`1 precedingExecutors, Func`2 currentExecutor, StrongBox`1 exceptionHolderOpt, Func`2 catchExceptionOpt, CancellationToken cancellationToken)",
     "output_type": "error",
     "traceback": [
      "System.Net.ProtocolViolationException: Cannot send a content-body with this verb-type.\r\n",
      "   at System.Net.HttpWebRequest.InternalGetRequestStream()\r\n",
      "   at System.Net.HttpWebRequest.GetRequestStream()\r\n",
      "   at Submission#3.<<Initialize>>d__0.MoveNext()\r\n",
      "--- End of stack trace from previous location ---\r\n",
      "   at Microsoft.CodeAnalysis.Scripting.ScriptExecutionState.RunSubmissionsAsync[TResult](ImmutableArray`1 precedingExecutors, Func`2 currentExecutor, StrongBox`1 exceptionHolderOpt, Func`2 catchExceptionOpt, CancellationToken cancellationToken)"
     ]
    }
   ],
   "source": [
    "using System.Net;\n",
    "using System.IO;\n",
    "using System.Net.Security;\n",
    "using System.Net.Cache;\n",
    "\n",
    "string FINANCE_CONN_GROUP = \"financial_connection\";\n",
    "string REAL_ESTATE_CONN_GROUP = \"real_estate_connection\";\n",
    "\n",
    "WebRequest req = WebRequest.Create(\"https://real-estate-detail.com/market/api\");\n",
    "req.ConnectionGroupName = REAL_ESTATE_CONN_GROUP;\n",
    "var noCachePolicy = new RequestCachePolicy(RequestCacheLevel.NoCacheNoStore);\n",
    "req.CachePolicy = noCachePolicy;\n",
    "req.AuthenticationLevel = AuthenticationLevel.MutualAuthRequired;\n",
    "req.Credentials = new NetworkCredential(\"test_user\", \"secure_and_safe_password\");\n",
    "Stream reqStream = req.GetRequestStream();\n",
    "var messageString = \"test\";\n",
    "var messageBytes = Encoding.UTF8.GetBytes(messageString);\n",
    "reqStream.Write(messageBytes, 0, messageBytes.Length);\n",
    "Console.WriteLine(\"any thing\");"
   ]
  }
 ],
 "metadata": {
  "kernelspec": {
   "display_name": ".NET (C#)",
   "language": "C#",
   "name": ".net-csharp"
  },
  "polyglot_notebook": {
   "kernelInfo": {
    "defaultKernelName": "csharp",
    "items": [
     {
      "aliases": [
       "c#",
       "C#"
      ],
      "languageName": "C#",
      "name": "csharp"
     },
     {
      "aliases": [],
      "name": ".NET"
     },
     {
      "aliases": [
       "f#",
       "F#"
      ],
      "languageName": "F#",
      "name": "fsharp"
     },
     {
      "aliases": [],
      "languageName": "HTML",
      "name": "html"
     },
     {
      "aliases": [],
      "languageName": "KQL",
      "name": "kql"
     },
     {
      "aliases": [],
      "languageName": "Mermaid",
      "name": "mermaid"
     },
     {
      "aliases": [
       "powershell"
      ],
      "languageName": "PowerShell",
      "name": "pwsh"
     },
     {
      "aliases": [],
      "languageName": "SQL",
      "name": "sql"
     },
     {
      "aliases": [],
      "name": "value"
     },
     {
      "aliases": [
       "frontend"
      ],
      "name": "vscode"
     }
    ]
   }
  }
 },
 "nbformat": 4,
 "nbformat_minor": 2
}
