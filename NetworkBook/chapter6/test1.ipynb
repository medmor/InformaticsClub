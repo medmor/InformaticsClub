{
 "cells": [
  {
   "cell_type": "code",
   "execution_count": null,
   "metadata": {
    "dotnet_interactive": {
     "language": "csharp"
    },
    "polyglot_notebook": {
     "kernelName": "csharp"
    }
   },
   "outputs": [],
   "source": [
    "using System.IO;\n",
    "\n",
    "string testMessage = \"Testing writing some arbitrary string to a stream a second time\";\n",
    "byte[] messageBytes = Encoding.UTF8.GetBytes(testMessage);\n",
    "\n",
    "using (Stream ioStream = new FileStream(\"file.txt\", FileMode.OpenOrCreate)) {\n",
    "    if (ioStream.CanWrite) {\n",
    "        ioStream.Seek(0, SeekOrigin.End);\n",
    "        ioStream.Write(messageBytes, 0, messageBytes.Length);\n",
    "    } else {\n",
    "        Console.WriteLine(\"Couldn't write to our data stream.\");\n",
    "    }\n",
    "}\n",
    "Console.WriteLine(\"Done!\");"
   ]
  },
  {
   "cell_type": "code",
   "execution_count": null,
   "metadata": {
    "dotnet_interactive": {
     "language": "csharp"
    },
    "polyglot_notebook": {
     "kernelName": "csharp"
    }
   },
   "outputs": [],
   "source": [
    "using System.IO;\n",
    "\n",
    "string testMessage = \"medmor \";\n",
    "byte[] messageBytes = Encoding.UTF8.GetBytes(testMessage);\n",
    "\n",
    "using (Stream ioStream = new FileStream(\"file.txt\", FileMode.OpenOrCreate)){\n",
    "    if (ioStream.CanWrite) {\n",
    "        ioStream.Write(messageBytes, 0, messageBytes.Length);\n",
    "    }else{\n",
    "        Console.WriteLine(\"Couldn't write to our data stream.\");\n",
    "    }\n",
    "    \n",
    "    if(ioStream.CanRead){\n",
    "        byte[] destArray = new byte[10];\n",
    "        ioStream.Read(destArray, 0, 10);\n",
    "        string result = Encoding.UTF8.GetString(destArray);\n",
    "        Console.WriteLine(result);\n",
    "    }\n",
    "}"
   ]
  },
  {
   "cell_type": "code",
   "execution_count": null,
   "metadata": {
    "dotnet_interactive": {
     "language": "csharp"
    },
    "polyglot_notebook": {
     "kernelName": "csharp"
    }
   },
   "outputs": [],
   "source": [
    "using Newtonsoft.Json;\n",
    "using System.IO;\n",
    "public class ComplexModel {\n",
    "    public string ComplexModelId { get; set; } = Guid.NewGuid().ToString();\n",
    "    public int NumberDemonstration { get; set; } = 12354;\n",
    "    public InnerModel smallInnerModel { get; set; }\n",
    "    public List<InnerModel> listOfInnerModels { get; set; } = new List<InnerModel>() {\n",
    "        new InnerModel(),\n",
    "        new InnerModel()\n",
    "    };\n",
    "}\n",
    "public class InnerModel {\n",
    "    public string randomId { get; set; } = Guid.NewGuid().ToString();\n",
    "    public string nonRandomString { get; set; } = \"I wrote this here.\";\n",
    "}\n",
    "\n",
    "ComplexModel testModel = new ComplexModel();\n",
    "string testMessage = JsonConvert.SerializeObject(testModel);\n",
    "byte[] messageBytes = Encoding.UTF8.GetBytes(testMessage);\n",
    "using (Stream ioStream = new FileStream(@\"file.json\", FileMode.OpenOrCreate)) {\n",
    "    if (ioStream.CanWrite) {\n",
    "        ioStream.Write(messageBytes, 0, messageBytes.Length);\n",
    "    } else {\n",
    "        Console.WriteLine(\"Couldn't write to our data stream.\");\n",
    "    }\n",
    "}\n",
    "Console.WriteLine(\"Done!\");"
   ]
  },
  {
   "cell_type": "code",
   "execution_count": null,
   "metadata": {
    "dotnet_interactive": {
     "language": "csharp"
    },
    "polyglot_notebook": {
     "kernelName": "csharp"
    }
   },
   "outputs": [],
   "source": [
    "ComplexModel testModel = new ComplexModel();\n",
    "string testMessage = JsonConvert.SerializeObject(testModel);\n",
    "using (Stream ioStream = new FileStream(@\"file.json\", FileMode.OpenOrCreate)) {\n",
    "    using (StreamWriter sw = new StreamWriter(ioStream)) {\n",
    "        sw.Write(testMessage);\n",
    "    }\n",
    "}\n",
    "Console.WriteLine(\"Done!\");"
   ]
  },
  {
   "cell_type": "code",
   "execution_count": null,
   "metadata": {
    "dotnet_interactive": {
     "language": "csharp"
    },
    "polyglot_notebook": {
     "kernelName": "csharp"
    }
   },
   "outputs": [],
   "source": [
    "ComplexModel testModel = new ComplexModel();\n",
    "string testMessage = JsonConvert.SerializeObject(testModel);\n",
    "using (Stream ioStream = new FileStream(\"file.json\", FileMode.OpenOrCreate)) {\n",
    "    using (StreamWriter sw = new StreamWriter(ioStream)) {\n",
    "        sw.Write(testMessage);\n",
    "        sw.BaseStream.Seek(10, SeekOrigin.Begin);\n",
    "        sw.Write(testMessage);\n",
    "    }\n",
    "}"
   ]
  },
  {
   "cell_type": "code",
   "execution_count": null,
   "metadata": {
    "dotnet_interactive": {
     "language": "csharp"
    },
    "polyglot_notebook": {
     "kernelName": "csharp"
    }
   },
   "outputs": [],
   "source": [
    "async Task LogAsync(string msg, int delay) {\n",
    "    Console.WriteLine($\"Running {msg} task begin\");\n",
    "    await Task.Delay(delay);\n",
    "    Console.WriteLine(msg);\n",
    "}\n",
    "\n",
    "var first = LogAsync(\"2000\", 2000);\n",
    "await LogAsync(\"500\", 500);\n",
    "var second = LogAsync(\"1000\", 1000);\n",
    "await LogAsync(\"400\", 400);\n",
    "await first;\n",
    "await second;\n"
   ]
  },
  {
   "cell_type": "code",
   "execution_count": 5,
   "metadata": {
    "dotnet_interactive": {
     "language": "csharp"
    },
    "polyglot_notebook": {
     "kernelName": "csharp"
    }
   },
   "outputs": [
    {
     "data": {
      "text/html": [
       "<div><div></div><div></div><div><strong>Installed Packages</strong><ul><li><span>Polly, 7.2.3</span></li></ul></div></div>"
      ]
     },
     "metadata": {},
     "output_type": "display_data"
    }
   ],
   "source": [
    "#r \"nuget: Polly\"\n"
   ]
  },
  {
   "cell_type": "code",
   "execution_count": 11,
   "metadata": {
    "dotnet_interactive": {
     "language": "csharp"
    },
    "polyglot_notebook": {
     "kernelName": "csharp"
    }
   },
   "outputs": [
    {
     "name": "stdout",
     "output_type": "stream",
     "text": [
      "Success!\r\n"
     ]
    }
   ],
   "source": [
    "using System.Net;\n",
    "using System.Net.Http;\n",
    "using Polly;\n",
    "\n",
    "public HttpResponseMessage ExecuteRemoteLookup() {\n",
    "    if (new Random().Next() % 2 == 0) {\n",
    "        Console.WriteLine(\"Retrying connections...\");\n",
    "        throw new WebException(\"Connection Failure\", WebExceptionStatus.ConnectFailure);\n",
    "    }\n",
    "    return new HttpResponseMessage();\n",
    "}\n",
    "\n",
    "private List<WebExceptionStatus> connectionFailure = new List<WebExceptionStatus>() {\n",
    "    WebExceptionStatus.ConnectFailure,\n",
    "    WebExceptionStatus.ConnectionClosed,\n",
    "    WebExceptionStatus.RequestCanceled,\n",
    "    WebExceptionStatus.PipelineFailure,\n",
    "    WebExceptionStatus.SendFailure,\n",
    "    WebExceptionStatus.KeepAliveFailure,\n",
    "    WebExceptionStatus.Timeout\n",
    "};\n",
    "private List<WebExceptionStatus> resourceAccessFailure = new List<WebExceptionStatus>() {\n",
    "    WebExceptionStatus.NameResolutionFailure,\n",
    "    WebExceptionStatus.ProxyNameResolutionFailure,\n",
    "    WebExceptionStatus.ServerProtocolViolation\n",
    "};\n",
    "private List<WebExceptionStatus> securityFailure = new List<WebExceptionStatus>() {\n",
    "    WebExceptionStatus.SecureChannelFailure,\n",
    "    WebExceptionStatus.TrustFailure\n",
    "};\n",
    "\n",
    "public void ExecuteRemoteLookupWithPolly() {\n",
    "    Policy connFailurePolicy = Policy\n",
    "        .Handle<WebException>(x => connectionFailure.Contains(x.Status))\n",
    "        .RetryForever();\n",
    "    HttpResponseMessage resp = connFailurePolicy.Execute(() => ExecuteRemoteLookup());\n",
    "    if (resp.IsSuccessStatusCode) {\n",
    "        Console.WriteLine(\"Success!\");\n",
    "    }\n",
    "}\n",
    "\n",
    "ExecuteRemoteLookupWithPolly();"
   ]
  }
 ],
 "metadata": {
  "kernelspec": {
   "display_name": ".NET (C#)",
   "language": "C#",
   "name": ".net-csharp"
  },
  "polyglot_notebook": {
   "kernelInfo": {
    "defaultKernelName": "csharp",
    "items": [
     {
      "aliases": [
       "c#",
       "C#"
      ],
      "languageName": "C#",
      "name": "csharp"
     },
     {
      "aliases": [],
      "name": ".NET"
     },
     {
      "aliases": [
       "frontend"
      ],
      "name": "vscode"
     },
     {
      "aliases": [
       "f#",
       "F#"
      ],
      "languageName": "F#",
      "name": "fsharp"
     },
     {
      "aliases": [],
      "languageName": "HTML",
      "name": "html"
     },
     {
      "aliases": [
       "js"
      ],
      "languageName": "JavaScript",
      "name": "javascript"
     },
     {
      "aliases": [],
      "languageName": "KQL",
      "name": "kql"
     },
     {
      "aliases": [],
      "languageName": "Mermaid",
      "name": "mermaid"
     },
     {
      "aliases": [
       "powershell"
      ],
      "languageName": "PowerShell",
      "name": "pwsh"
     },
     {
      "aliases": [],
      "languageName": "SQL",
      "name": "sql"
     },
     {
      "aliases": [],
      "name": "value"
     },
     {
      "aliases": [],
      "name": "webview"
     }
    ]
   }
  }
 },
 "nbformat": 4,
 "nbformat_minor": 2
}
