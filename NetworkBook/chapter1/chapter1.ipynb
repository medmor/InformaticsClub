{
 "cells": [
  {
   "cell_type": "code",
   "execution_count": 3,
   "metadata": {
    "dotnet_interactive": {
     "language": "csharp"
    },
    "polyglot_notebook": {
     "kernelName": "csharp"
    }
   },
   "outputs": [
    {
     "name": "stdout",
     "output_type": "stream",
     "text": [
      "google.com\n",
      "216.58.211.206\n",
      "kubernetes.docker.internal\n",
      "127.0.0.1\n"
     ]
    }
   ],
   "source": [
    "using System.Net;\n",
    "var domainEntry = Dns.GetHostEntry(\"google.com\");\n",
    "Console.WriteLine(domainEntry.HostName);\n",
    "foreach(var entry in domainEntry.AddressList){\n",
    "    Console.WriteLine(entry);\n",
    "}\n",
    "\n",
    "var domainEntryByAdress = Dns.GetHostEntry(\"127.0.0.1\");\n",
    "Console.WriteLine(domainEntryByAdress.HostName);\n",
    "foreach(var entry in domainEntryByAdress.AddressList){\n",
    "    Console.WriteLine(entry);\n",
    "}"
   ]
  },
  {
   "cell_type": "code",
   "execution_count": 5,
   "metadata": {
    "dotnet_interactive": {
     "language": "csharp"
    },
    "polyglot_notebook": {
     "kernelName": "csharp"
    }
   },
   "outputs": [
    {
     "name": "stdout",
     "output_type": "stream",
     "text": [
      "http://packt.com/\n",
      "http://packt.com/\n"
     ]
    }
   ],
   "source": [
    "var builder = new UriBuilder();\n",
    "builder.Scheme = \"http\";\n",
    "builder.Host = \"packt.com\";\n",
    "Console.WriteLine(builder.Uri.ToString());\n",
    "\n",
    "builder = new UriBuilder(\"http\", \"packt.com\");\n",
    "Console.WriteLine(builder.Uri.ToString());"
   ]
  }
 ],
 "metadata": {
  "kernelspec": {
   "display_name": ".NET (C#)",
   "language": "C#",
   "name": ".net-csharp"
  },
  "polyglot_notebook": {
   "kernelInfo": {
    "defaultKernelName": "csharp",
    "items": [
     {
      "aliases": [
       "c#",
       "C#"
      ],
      "languageName": "C#",
      "name": "csharp"
     },
     {
      "aliases": [],
      "name": ".NET"
     },
     {
      "aliases": [
       "f#",
       "F#"
      ],
      "languageName": "F#",
      "name": "fsharp"
     },
     {
      "aliases": [],
      "languageName": "HTML",
      "name": "html"
     },
     {
      "aliases": [],
      "languageName": "KQL",
      "name": "kql"
     },
     {
      "aliases": [],
      "languageName": "Mermaid",
      "name": "mermaid"
     },
     {
      "aliases": [
       "powershell"
      ],
      "languageName": "PowerShell",
      "name": "pwsh"
     },
     {
      "aliases": [],
      "languageName": "SQL",
      "name": "sql"
     },
     {
      "aliases": [],
      "name": "value"
     },
     {
      "aliases": [
       "frontend"
      ],
      "name": "vscode"
     }
    ]
   }
  }
 },
 "nbformat": 4,
 "nbformat_minor": 2
}
